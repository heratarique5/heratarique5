{
 "cells": [
  {
   "cell_type": "code",
   "execution_count": 1,
   "id": "2eb49c1e-a691-4a87-826c-e4d1bcf77803",
   "metadata": {},
   "outputs": [
    {
     "name": "stdin",
     "output_type": "stream",
     "text": [
      "Enter a list of numbers separated by spaces: 2 3\n"
     ]
    },
    {
     "name": "stdout",
     "output_type": "stream",
     "text": [
      "total sum is: 5.0\n",
      "Average of the numbers is:  2.5\n"
     ]
    }
   ],
   "source": [
    "user_input = input (\"Enter a list of numbers separated by spaces:\")\n",
    "number_list = [float(num) for num in user_input.split()]\n",
    "total_sum = sum(number_list)\n",
    "average = total_sum / len(number_list)\n",
    "print(\"total sum is:\", total_sum)\n",
    "print(\"Average of the numbers is: \", average)"
   ]
  }
 ],
 "metadata": {
  "kernelspec": {
   "display_name": "Python 3 (ipykernel)",
   "language": "python",
   "name": "python3"
  },
  "language_info": {
   "codemirror_mode": {
    "name": "ipython",
    "version": 3
   },
   "file_extension": ".py",
   "mimetype": "text/x-python",
   "name": "python",
   "nbconvert_exporter": "python",
   "pygments_lexer": "ipython3",
   "version": "3.12.0"
  }
 },
 "nbformat": 4,
 "nbformat_minor": 5
}
