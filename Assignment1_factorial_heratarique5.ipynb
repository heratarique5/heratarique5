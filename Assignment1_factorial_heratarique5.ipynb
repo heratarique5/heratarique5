{
 "cells": [
  {
   "cell_type": "code",
   "execution_count": 2,
   "id": "2eb49c1e-a691-4a87-826c-e4d1bcf77803",
   "metadata": {},
   "outputs": [
    {
     "name": "stdin",
     "output_type": "stream",
     "text": [
      "Enter a non-negative integer:  5\n"
     ]
    },
    {
     "name": "stdout",
     "output_type": "stream",
     "text": [
      "Factorial is: 120\n"
     ]
    }
   ],
   "source": [
    "def factorial(n):\n",
    "  if n == 0 or n == 1:\n",
    "      return 1\n",
    "  else:\n",
    "      return n * factorial(n - 1)\n",
    "user_input = int(input(\"Enter a non-negative integer: \"))\n",
    "result = factorial(user_input)\n",
    "print(\"Factorial is:\", result) "
   ]
  }
 ],
 "metadata": {
  "kernelspec": {
   "display_name": "Python 3 (ipykernel)",
   "language": "python",
   "name": "python3"
  },
  "language_info": {
   "codemirror_mode": {
    "name": "ipython",
    "version": 3
   },
   "file_extension": ".py",
   "mimetype": "text/x-python",
   "name": "python",
   "nbconvert_exporter": "python",
   "pygments_lexer": "ipython3",
   "version": "3.12.0"
  }
 },
 "nbformat": 4,
 "nbformat_minor": 5
}
